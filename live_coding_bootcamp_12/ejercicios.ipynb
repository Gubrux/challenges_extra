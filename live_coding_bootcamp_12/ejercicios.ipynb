{
 "cells": [
  {
   "cell_type": "markdown",
   "metadata": {},
   "source": [
    "# Ejercicio 1\n",
    "\n",
    "## Tu peso en otro planeta: Marte\n",
    "\n",
    "En la Tierra, la fuerza de la gravedad es de 9.8 m2.\n",
    "\n",
    "Tu tarea es investigar qué formula podemos utilizar para obtener el equivalente de peso en Marte.\n",
    "Peso en Marte= (Peso en la Tierra/9.81m/s2) * 3.711m/s2"
   ]
  },
  {
   "cell_type": "code",
   "execution_count": 2,
   "metadata": {},
   "outputs": [
    {
     "name": "stdout",
     "output_type": "stream",
     "text": [
      "Tu peso en marte es 34.08061224489796 kg.\n"
     ]
    }
   ],
   "source": [
    "# Paso 1: Pedir peso al usuario\n",
    "peso_usuario_tierra = int(input(\"Por favor, ingrese su peso\"))\n",
    "\n",
    "# Paso 2: Calcular peso en marte\n",
    "peso_en_marte = (peso_usuario_tierra / 9.8) * 3.711\n",
    "\n",
    "# Paso 3: Decirle al usuario cual es su peso \n",
    "print(f\"Tu peso en marte es {peso_en_marte} kg.\")"
   ]
  },
  {
   "cell_type": "markdown",
   "metadata": {},
   "source": [
    "# Ejercicio 2:\n",
    "\n",
    "## Adivina el número\n",
    "\n",
    "El programa genera un número secreto entre 1 y 100 y el usuario debe adivinar el número tras una pista de la computadora. Cada vez que un usuario se equivoca, se le ofrece una pista para que le resulte más fácil adivinar el número, pero a costa de reducir la cantidad de intentos. La pista puede ser si el número ingresado es mayor o menor al número secreto."
   ]
  },
  {
   "cell_type": "code",
   "execution_count": 7,
   "metadata": {},
   "outputs": [
    {
     "ename": "ValueError",
     "evalue": "invalid literal for int() with base 10: ''",
     "output_type": "error",
     "traceback": [
      "\u001b[1;31m---------------------------------------------------------------------------\u001b[0m",
      "\u001b[1;31mValueError\u001b[0m                                Traceback (most recent call last)",
      "\u001b[1;32mc:\\Users\\Gabriel\\Desktop\\live_coding\\live_coding_bootcamp_12\\ejercicios.ipynb Celda 4\u001b[0m in \u001b[0;36m<cell line: 11>\u001b[1;34m()\u001b[0m\n\u001b[0;32m      <a href='vscode-notebook-cell:/c%3A/Users/Gabriel/Desktop/live_coding/live_coding_bootcamp_12/ejercicios.ipynb#W4sZmlsZQ%3D%3D?line=7'>8</a>\u001b[0m intentos \u001b[39m=\u001b[39m \u001b[39m5\u001b[39m\n\u001b[0;32m     <a href='vscode-notebook-cell:/c%3A/Users/Gabriel/Desktop/live_coding/live_coding_bootcamp_12/ejercicios.ipynb#W4sZmlsZQ%3D%3D?line=9'>10</a>\u001b[0m \u001b[39m# Numero secreto del usuario\u001b[39;00m\n\u001b[1;32m---> <a href='vscode-notebook-cell:/c%3A/Users/Gabriel/Desktop/live_coding/live_coding_bootcamp_12/ejercicios.ipynb#W4sZmlsZQ%3D%3D?line=10'>11</a>\u001b[0m numero_usuario \u001b[39m=\u001b[39m \u001b[39mint\u001b[39;49m(\u001b[39minput\u001b[39;49m(\u001b[39m\"\u001b[39;49m\u001b[39mAdivina el numero secreto\u001b[39;49m\u001b[39m\"\u001b[39;49m))\n\u001b[0;32m     <a href='vscode-notebook-cell:/c%3A/Users/Gabriel/Desktop/live_coding/live_coding_bootcamp_12/ejercicios.ipynb#W4sZmlsZQ%3D%3D?line=12'>13</a>\u001b[0m \u001b[39mwhile\u001b[39;00m \u001b[39mTrue\u001b[39;00m:\n\u001b[0;32m     <a href='vscode-notebook-cell:/c%3A/Users/Gabriel/Desktop/live_coding/live_coding_bootcamp_12/ejercicios.ipynb#W4sZmlsZQ%3D%3D?line=13'>14</a>\u001b[0m     \u001b[39m# Caso en el que el numero secreto es mayor al del usuario\u001b[39;00m\n\u001b[0;32m     <a href='vscode-notebook-cell:/c%3A/Users/Gabriel/Desktop/live_coding/live_coding_bootcamp_12/ejercicios.ipynb#W4sZmlsZQ%3D%3D?line=14'>15</a>\u001b[0m     \u001b[39mif\u001b[39;00m numero_secreto \u001b[39m>\u001b[39m numero_usuario:\n",
      "\u001b[1;31mValueError\u001b[0m: invalid literal for int() with base 10: ''"
     ]
    }
   ],
   "source": [
    "# Numero secreto\n",
    "numero_secreto = 698\n",
    "\n",
    "# Numero de intentos\n",
    "intentos = 5\n",
    "\n",
    "# Numero secreto del usuario\n",
    "numero_usuario = int(input(\"Adivina el numero secreto\"))\n",
    "\n",
    "while True:\n",
    "    # Caso en el que el numero secreto es mayor al del usuario\n",
    "    if numero_secreto > numero_usuario:\n",
    "        print(\"El numero secreto es mayor\")\n",
    "    # Caso en el que el numero secreto es menor al del usuario\n",
    "    elif numero_secreto < numero_usuario:\n",
    "        print(\"El numero secreto es menor\")\n",
    "    # Victoria\n",
    "    else:\n",
    "        print(\"Felicidades! Acertaste el numero\")\n",
    "        break\n",
    "\n",
    "    # Si el usuario se equivoca, le reducimos un intento\n",
    "    intentos = intentos - 1\n",
    "\n",
    "    # Validamos si los intentos llegan a 0 como para terminar el programa\n",
    "    if intentos == 0:\n",
    "        print(\"Te quedaste sin intentos\")\n",
    "        break\n",
    "    \n",
    "    # Notificar al usuario la cantidad de intentos restantes\n",
    "    print(f\"Te quedan {intentos} intentos\")\n",
    "\n",
    "    # Volvemos a requerir el numero al usuario\n",
    "    numero_usuario = int(input(\"Adivina el numero secreto\"))\n",
    "\n",
    "\n"
   ]
  }
 ],
 "metadata": {
  "kernelspec": {
   "display_name": "Python 3.10.7 64-bit (microsoft store)",
   "language": "python",
   "name": "python3"
  },
  "language_info": {
   "codemirror_mode": {
    "name": "ipython",
    "version": 3
   },
   "file_extension": ".py",
   "mimetype": "text/x-python",
   "name": "python",
   "nbconvert_exporter": "python",
   "pygments_lexer": "ipython3",
   "version": "3.10.7"
  },
  "orig_nbformat": 4,
  "vscode": {
   "interpreter": {
    "hash": "b43e7ff31075b76f685ec6b48b90918f680a5415bd0bd07146bb7bb5266a47e0"
   }
  }
 },
 "nbformat": 4,
 "nbformat_minor": 2
}
