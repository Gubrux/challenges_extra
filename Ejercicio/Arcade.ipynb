{
 "cells": [
  {
   "cell_type": "markdown",
   "metadata": {},
   "source": [
    "#### Funciones para implementar reglas en un juego clasico que todos conocemos..."
   ]
  },
  {
   "cell_type": "markdown",
   "metadata": {},
   "source": [
    "# ----------PACMAN-----------"
   ]
  },
  {
   "cell_type": "code",
   "execution_count": null,
   "metadata": {},
   "outputs": [],
   "source": [
    "#Definimos una funcion, que determina si podemos comernos a un fantasmita\n",
    "#A nuestra funcion le vamos a llamar \" comer_fantasmita\"\n",
    "#Y a nuestros parametros \"power_up\" y \"tocar_fantasmita\"\n",
    "def comer_fantasmita(power_up, tocar_fantasmita):\n",
    "    # Aplicamos condicionales\n",
    "    # Si tenemos el power_up activo, podemos comernos a los fantasmas\n",
    "    if power_up and tocar_fantasmita:\n",
    "    #nos deberia retornar un resultado booleano. True o False\n",
    "        print(\"Que rico!\")\n",
    "        return True\n",
    "    #Nos podemos comer a todos los fantasmitas que queremos\n",
    "    #En caso contrario, si no tenemos el power_up activado, no podemos comernos a ningun fantasma\n",
    "    else:\n",
    "        print(\"............Blinky te está buscando...\")\n",
    "        return False\n",
    "\n",
    "comer_fantasmita(True,True)"
   ]
  },
  {
   "cell_type": "code",
   "execution_count": null,
   "metadata": {},
   "outputs": [],
   "source": [
    "#Otra regla de nuestro juego, debe ser la de ganar puntos\n",
    "#Verificamos si Pac toca un puntito o una cerecita\n",
    "#Similar al caso anterior, definimos nuestra funcion y asignamos nuestros parametros\n",
    "#La funcion se llamrá \"puntaje\" y nuestros parámetros, \"tocar_puntito\" y \"comer_cerecita\"\n",
    "def puntaje(tocar_puntito, comer_cerecita):\n",
    "    #Aplicamos condicionales\n",
    "    #si tocamos un punto o una cerecita.\n",
    "    #Nos deberia retornar un resultado, si ganamos puntaje o no.\n",
    "    if tocar_puntito or comer_cerecita:\n",
    "        print(\"pedi unos puntitos, no un banquete!\")\n",
    "        return True\n",
    "    else:\n",
    "        print(\"Algun puntito para este pobre Pac?\")\n",
    "        return False\n",
    "\n",
    "comer_fantasmita(True, True)"
   ]
  },
  {
   "cell_type": "code",
   "execution_count": 3,
   "metadata": {},
   "outputs": [],
   "source": [
    "#Algo muy importante en todos los juegos es ganar... pero tambien podemos perder\n",
    "#Vamos a crear una funcion, en la que agregamos la posibilidad de perder si los fantasmas nos tocan.\n",
    "#Definimos la funcion \"perder\"\n",
    "#Asignamos nuestros parametros como \"tocar_fantasma\" y \"power_up\"\n",
    "def perder(tocar_fantasmita, power_up):\n",
    "    if not power_up and tocar_fantasmita:\n",
    "    #Agregamos condicionales. \n",
    "    #si no tenemos el power_up activo, y tocamos al fantasma, nos retorna Game over.\n",
    "        print(\"Game Over\")\n",
    "        return True\n",
    "    else:\n",
    "        return False"
   ]
  },
  {
   "cell_type": "code",
   "execution_count": null,
   "metadata": {},
   "outputs": [],
   "source": [
    "#La siguiente regla, es para determinar cuando ganamos\n",
    "#Para ganar, tenemos que comernos todos los puntitos en pantalla\n",
    "#Definimos nuestra funcion, \"ganar\"\n",
    "#Nuestros parametros a asignar deberian ser, \"comer_todos_los_puntitos\" \"power-up\" y \"tocar_fantasmita\"\n",
    "def ganar(comer_todos_los_puntitos, power_up, tocar_fantasmita):\n",
    "    #si comemos todos los puntitos y no perdemos, nos debe retornar, W.I.N.\n",
    "    if comer_todos_los_puntitos and not perder(power_up, tocar_fantasmita):\n",
    "    #recordatorio de la regla anterior, si tocamos al fantasma y no tenemos el power-up activado, perdemos.\n",
    "        print(\"W.I.N\")\n",
    "        return True\n",
    "    else:\n",
    "        return False"
   ]
  }
 ],
 "metadata": {
  "kernelspec": {
   "display_name": "Python 3.10.7 64-bit (microsoft store)",
   "language": "python",
   "name": "python3"
  },
  "language_info": {
   "codemirror_mode": {
    "name": "ipython",
    "version": 3
   },
   "file_extension": ".py",
   "mimetype": "text/x-python",
   "name": "python",
   "nbconvert_exporter": "python",
   "pygments_lexer": "ipython3",
   "version": "3.10.7"
  },
  "orig_nbformat": 4,
  "vscode": {
   "interpreter": {
    "hash": "b43e7ff31075b76f685ec6b48b90918f680a5415bd0bd07146bb7bb5266a47e0"
   }
  }
 },
 "nbformat": 4,
 "nbformat_minor": 2
}
