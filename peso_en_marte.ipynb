{
 "cells": [
  {
   "cell_type": "markdown",
   "metadata": {},
   "source": [
    "# Tu peso en otro planeta: Marte\n",
    "\n",
    "En la Tierra, la fuerza de la gravedad es de 9.8 m2.\n",
    "\n",
    "Tu tarea es investigar qué formula podemos utilizar para obtener el equivalente de peso en Marte."
   ]
  },
  {
   "cell_type": "code",
   "execution_count": 7,
   "metadata": {},
   "outputs": [
    {
     "name": "stdout",
     "output_type": "stream",
     "text": [
      "Tu peso en marte es 35.18073394495413 kg\n"
     ]
    }
   ],
   "source": [
    "### Hola! Con los comments, voy a darles una ayuda para estructurar sus códigos:\n",
    "\n",
    "# Paso 1: Pedir el peso al usuario\n",
    "peso_usuario_tierra = int(input(\"Ingrese su peso\"))\n",
    "\n",
    "\n",
    "# Paso 2: calcular nuevo_peso\n",
    "peso_usuario_marte = (peso_usuario_tierra / 9.81) * 3.711\n",
    "\n",
    "\n",
    "# Paso 3: Decirle al usuario su nuevo peso\n",
    "print(f\"Tu peso en marte es {peso_usuario_marte} kg\")"
   ]
  },
  {
   "cell_type": "markdown",
   "metadata": {},
   "source": [
    "# Descripción del ejercicio:\n",
    "\n",
    "El programa genera un número secreto entre 1 y 100 y el usuario debe adivinar el número tras una pista de la computadora. Cada vez que un usuario se equivoca, se le ofrece una pista para que le resulte más fácil adivinar el número, pero a costa de reducir la cantidad de intentos. La pista puede ser si el número ingresado es mayor o menor al número secreto."
   ]
  },
  {
   "cell_type": "code",
   "execution_count": 24,
   "metadata": {},
   "outputs": [
    {
     "name": "stdout",
     "output_type": "stream",
     "text": [
      "El numero es mayor al que ingresaste. El valor que ingresaste es 10. Intenta nuevamente\n",
      "Te quedan 4 intentos\n",
      "El numero es mayor al que ingresaste. El valor que ingresaste es 10. Intenta nuevamente\n",
      "Te quedan 3 intentos\n",
      "El numero es mayor al que ingresaste. El valor que ingresaste es 10. Intenta nuevamente\n",
      "Te quedan 2 intentos\n",
      "El numero es mayor al que ingresaste. El valor que ingresaste es 10. Intenta nuevamente\n",
      "Te quedan 1 intentos\n",
      "El numero es mayor al que ingresaste. El valor que ingresaste es 10. Intenta nuevamente\n",
      "Te quedaste sin intentos\n"
     ]
    }
   ],
   "source": [
    "# Generar numero secreto aleatorio entre 1 y 100 o cualquier rango especificado\n",
    "numero_aleatorio = 58\n",
    "intentos = 5\n",
    "\n",
    "# El usuario debe adivinar el numero tras una pista de la computadora\n",
    "numero_usuario = int(input(\"Intenta adivinar el numero secreto\"))\n",
    "\n",
    "# Mientras que el numero ingresado no sea igual al numero aleatorio\n",
    "while True:\n",
    "\n",
    "    # Comparar el numero ingresado con el numero secreto\n",
    "    if numero_aleatorio < numero_usuario:\n",
    "    \n",
    "        # Cada vez que se equivoca se le da una pista. Si el numero secreto es mayor o menor al ingresado\n",
    "        print(f\"El numero es menor al que ingresaste. El valor que ingresaste es {numero_usuario}. Intenta nuevamente\")\n",
    "    \n",
    "\n",
    "    # Encontrar si el numero aleatorio es mayor al numero ingresado\n",
    "    elif numero_aleatorio > numero_usuario:\n",
    "        # Cada vez que se equivoca se le da una pista. Si el numero secreto es mayor o menor al ingresado\n",
    "        print(f\"El numero es mayor al que ingresaste. El valor que ingresaste es {numero_usuario}. Intenta nuevamente\")\n",
    "  \n",
    "    # El ultimo caso que queda es si acerto el numero\n",
    "    else:\n",
    "        print(f\"Acertaste, el numero es {numero_aleatorio}. Felicidades!\")\n",
    "        break\n",
    "\n",
    "    # Reducimos numero de intentos\n",
    "    intentos = intentos - 1\n",
    "    \n",
    "    if intentos == 0:\n",
    "        print(\"Te quedaste sin intentos\")\n",
    "        break\n",
    "\n",
    "    print(f\"Te quedan {intentos} intentos\")\n",
    "\n",
    "    # Volvemos a requerir que el usuario adivine el numero\n",
    "    numero_usuario = int(input(\"Intenta adivinar el numero secreto\"))\n",
    "\n"
   ]
  }
 ],
 "metadata": {
  "kernelspec": {
   "display_name": "Python 3.10.5 64-bit",
   "language": "python",
   "name": "python3"
  },
  "language_info": {
   "codemirror_mode": {
    "name": "ipython",
    "version": 3
   },
   "file_extension": ".py",
   "mimetype": "text/x-python",
   "name": "python",
   "nbconvert_exporter": "python",
   "pygments_lexer": "ipython3",
   "version": "3.10.5"
  },
  "orig_nbformat": 4,
  "vscode": {
   "interpreter": {
    "hash": "aee8b7b246df8f9039afb4144a1f6fd8d2ca17a180786b69acc140d282b71a49"
   }
  }
 },
 "nbformat": 4,
 "nbformat_minor": 2
}
